{
 "cells": [
  {
   "cell_type": "markdown",
   "id": "55f34611",
   "metadata": {},
   "source": [
    "# Python Essentials: Data Types, Assignment, Notebook Output, and Core Data Structures\n",
    "\n",
    "*(Designed for live demonstration in Jupyter)*  \n",
    "This mini‑notebook walks through:\n",
    "- Primitive data types\n",
    "- Assignment statements (and multiple assignment)\n",
    "- Why Jupyter shows **only the last expression’s value** in a cell by default\n",
    "- Built‑in data structures: **lists**, **tuples**, and **dictionaries**\n",
    "- Common, high‑leverage methods and idioms for each\n",
    "\n",
    "> Note: Structured to loosely mirror the style of your guide notebook.\n"
   ]
  },
  {
   "cell_type": "markdown",
   "id": "f953945b",
   "metadata": {},
   "source": [
    "\n",
    "## 1) Primitive Data Types\n",
    "Common built‑in types you'll use constantly:\n",
    "\n",
    "- `int` — whole numbers\n",
    "- `float` — decimal numbers\n",
    "- `bool` — logical `True`/`False`\n",
    "- `str` — text\n",
    "- `NoneType` — the special value `None` (absence of a value)\n"
   ]
  },
  {
   "cell_type": "code",
   "execution_count": null,
   "id": "d0a595f0",
   "metadata": {},
   "outputs": [],
   "source": [
    "# Inspect types with type()\n",
    "a = 42           # int\n",
    "b = 3.14         # float\n",
    "c = True         # bool\n",
    "d = \"hello\"      # str\n",
    "e = None         # NoneType\n",
    "\n",
    "type(a), type(b), type(c), type(d), type(e)"
   ]
  },
  {
   "cell_type": "markdown",
   "id": "ab3dadc3",
   "metadata": {},
   "source": [
    "\n",
    "### Numeric basics\n",
    "- Integer division vs. true division: `//` vs `/`\n",
    "- Modulo: `%` (remainder)\n",
    "- Exponentiation: `**`\n"
   ]
  },
  {
   "cell_type": "code",
   "execution_count": null,
   "id": "a0ea87db",
   "metadata": {},
   "outputs": [],
   "source": [
    "7 / 3, 7 // 3, 7 % 3, 2 ** 5"
   ]
  },
  {
   "cell_type": "markdown",
   "id": "f074f4d2",
   "metadata": {},
   "source": [
    "\n",
    "## 2) Assignment Statements\n",
    "- Standard: `name = expression`\n",
    "- Multiple assignment (unpacking): `x, y = 1, 2`\n",
    "- Swapping without a temp variable: `x, y = y, x`\n",
    "- Augmented assignment: `+=, -=, *=, /=, //=, %=, **=`\n"
   ]
  },
  {
   "cell_type": "code",
   "execution_count": null,
   "id": "2cf11fca",
   "metadata": {},
   "outputs": [],
   "source": [
    "x = 10\n",
    "y = 20\n",
    "x, y"
   ]
  },
  {
   "cell_type": "code",
   "execution_count": null,
   "id": "e33101ab",
   "metadata": {},
   "outputs": [],
   "source": [
    "# Multiple assignment and swapping\n",
    "x, y = 1, 2\n",
    "x, y = y, x\n",
    "x, y"
   ]
  },
  {
   "cell_type": "code",
   "execution_count": null,
   "id": "bc61bae4",
   "metadata": {},
   "outputs": [],
   "source": [
    "# Augmented assignment\n",
    "count = 0\n",
    "count += 5  # same as count = count + 5\n",
    "count"
   ]
  },
  {
   "cell_type": "markdown",
   "id": "a3fec9cf",
   "metadata": {},
   "source": [
    "\n",
    "## 3) Why Jupyter Shows Only the Last Expression’s Value\n",
    "In a Jupyter code cell, **only the value of the last expression** (not assigned to a name) is displayed automatically.\n",
    "\n",
    "- To show multiple things, explicitly print them with `print()`.\n",
    "- Or split logic into multiple cells.\n"
   ]
  },
  {
   "cell_type": "code",
   "execution_count": null,
   "id": "9814dfa1",
   "metadata": {},
   "outputs": [],
   "source": [
    "# Only the last expression will auto-display:\n",
    "\"first value\"\n",
    "\"second value\"   # Only this line will appear as the cell's output"
   ]
  },
  {
   "cell_type": "code",
   "execution_count": null,
   "id": "962e10a7",
   "metadata": {},
   "outputs": [],
   "source": [
    "# Use print() to display multiple results within the same cell:\n",
    "print(\"first value\")\n",
    "print(\"second value\")\n",
    "print(\"third value\")"
   ]
  },
  {
   "cell_type": "markdown",
   "id": "d0633cde",
   "metadata": {},
   "source": [
    "\n",
    "## 4) Lists\n",
    "Mutable, ordered collections. Good for sequences you will **modify**.\n",
    "\n",
    "**Core operations & idioms:**\n",
    "- Indexing & slicing: `lst[0]`, `lst[-1]`, `lst[1:4]`\n",
    "- Adding: `.append(x)`, `.extend(iterable)`, `.insert(i, x)`\n",
    "- Removing: `.pop()`, `.remove(x)`\n",
    "- Sorting: `.sort()` (in‑place) vs `sorted(lst)` (returns a new list)\n",
    "- Comprehensions: `[expr for item in iterable if condition]`\n"
   ]
  },
  {
   "cell_type": "code",
   "execution_count": null,
   "id": "77f2a95f",
   "metadata": {},
   "outputs": [],
   "source": [
    "nums = [10, 5, 8, 3]\n",
    "nums[0], nums[-1], nums[1:3]"
   ]
  },
  {
   "cell_type": "code",
   "execution_count": null,
   "id": "5ece986d",
   "metadata": {},
   "outputs": [],
   "source": [
    "# Mutations\n",
    "nums.append(42)\n",
    "nums.extend([7, 7])\n",
    "nums.insert(1, 99)\n",
    "nums"
   ]
  },
  {
   "cell_type": "code",
   "execution_count": null,
   "id": "7af9038e",
   "metadata": {},
   "outputs": [],
   "source": [
    "# Removing\n",
    "nums.pop()         # removes last and returns it\n",
    "nums.remove(99)    # removes first occurrence of 99\n",
    "nums"
   ]
  },
  {
   "cell_type": "code",
   "execution_count": null,
   "id": "40fbe2b8",
   "metadata": {},
   "outputs": [],
   "source": [
    "# Sorting: in-place vs. new list\n",
    "copy_nums = nums[:]      # shallow copy\n",
    "nums.sort()              # in-place\n",
    "nums, sorted(copy_nums)  # second is a new sorted list"
   ]
  },
  {
   "cell_type": "code",
   "execution_count": null,
   "id": "8b525005",
   "metadata": {},
   "outputs": [],
   "source": [
    "# List comprehension\n",
    "squares_of_even = [n*n for n in nums if n % 2 == 0]\n",
    "squares_of_even"
   ]
  },
  {
   "cell_type": "markdown",
   "id": "e9e76b5f",
   "metadata": {},
   "source": [
    "\n",
    "## 5) Tuples\n",
    "Immutable, ordered collections. Great for fixed‑size records and returning multiple values.\n",
    "\n",
    "**Key points & methods:**\n",
    "- Creation: `(1, 2, 3)` or `1, 2, 3`\n",
    "- Immutability: you **cannot** reassign items\n",
    "- Methods: `.count(value)`, `.index(value)`\n",
    "- Common pattern: **unpacking** — `name, age = (\"Ada\", 37)`\n"
   ]
  },
  {
   "cell_type": "code",
   "execution_count": null,
   "id": "7961edbe",
   "metadata": {},
   "outputs": [],
   "source": [
    "t = (2, 3, 5, 3)\n",
    "t[0], t[-1], t.count(3), t.index(5)"
   ]
  },
  {
   "cell_type": "code",
   "execution_count": null,
   "id": "3bd80268",
   "metadata": {},
   "outputs": [],
   "source": [
    "# Unpacking\n",
    "point = (12.5, -3.2)\n",
    "x, y = point\n",
    "x, y"
   ]
  },
  {
   "cell_type": "code",
   "execution_count": null,
   "id": "9112b458",
   "metadata": {},
   "outputs": [],
   "source": [
    "# Immutability demo (will raise a TypeError if uncommented):\n",
    "# t[0] = 99\n",
    "# Run to see the error by uncommenting the line above.\n",
    "\"Tuples are immutable; you cannot assign to t[0].\""
   ]
  },
  {
   "cell_type": "markdown",
   "id": "58c57b3a",
   "metadata": {},
   "source": [
    "\n",
    "## 6) Dictionaries\n",
    "Mappings of **keys** to **values**. Super useful for labeled data.\n",
    "\n",
    "**Core operations & idioms:**\n",
    "- Access & insert: `d[key]`, `d[key] = value`\n",
    "- Safe access: `d.get(key, default)`\n",
    "- Membership (keys): `key in d`\n",
    "- Views: `d.keys()`, `d.values()`, `d.items()`\n",
    "- Update/merge: `d.update(other)` (right-hand wins)\n",
    "- Remove: `d.pop(key, default)`\n",
    "- Dict comprehensions: `{k: v for ... if ...}`\n"
   ]
  },
  {
   "cell_type": "code",
   "execution_count": null,
   "id": "68493663",
   "metadata": {},
   "outputs": [],
   "source": [
    "person = {\"name\": \"Ada\", \"role\": \"Scientist\", \"born\": 1815}\n",
    "person[\"name\"], person.get(\"city\", \"unknown\"), (\"name\" in person)"
   ]
  },
  {
   "cell_type": "code",
   "execution_count": null,
   "id": "ca8e4b12",
   "metadata": {},
   "outputs": [],
   "source": [
    "# Update and remove\n",
    "person.update({\"role\": \"Mathematician\", \"city\": \"London\"})\n",
    "removed = person.pop(\"born\", None)\n",
    "person, removed"
   ]
  },
  {
   "cell_type": "code",
   "execution_count": null,
   "id": "0f26c2d3",
   "metadata": {},
   "outputs": [],
   "source": [
    "# Iteration patterns\n",
    "pairs = []\n",
    "for key, value in person.items():\n",
    "    pairs.append(f\"{key} -> {value}\")\n",
    "pairs"
   ]
  },
  {
   "cell_type": "code",
   "execution_count": null,
   "id": "4a35a58e",
   "metadata": {},
   "outputs": [],
   "source": [
    "# Dict comprehension: invert a dictionary (values must be hashable & unique)\n",
    "inv = {v: k for k, v in person.items()}\n",
    "inv"
   ]
  },
  {
   "cell_type": "markdown",
   "id": "bf322665",
   "metadata": {},
   "source": [
    "\n",
    "## 7) Mini Practice (Optional)\n",
    "1. Create a list of 5 numbers, then produce a new list that contains the cubes of the **odd** numbers.\n",
    "2. Make a tuple to represent a student record: `(name, year, gpa)`. Unpack into three variables.\n",
    "3. Create a dictionary `grades = {\"A\": 4, \"B\": 3, \"C\": 2}` and:\n",
    "   - Safely read `grades.get(\"D\", 0)`  \n",
    "   - Add `\"A-\" : 3.7` using update  \n",
    "   - Iterate over `grades.items()` building strings like `\"A -> 4\"`\n"
   ]
  },
  {
   "cell_type": "markdown",
   "id": "626d7e75",
   "metadata": {},
   "source": [
    "\n",
    "---\n",
    "\n",
    "**That’s it!** You now have a fast tour of the essentials you'll need for early data work in Python.\n"
   ]
  }
 ],
 "metadata": {
  "kernelspec": {
   "display_name": "Python 3 (ipykernel)",
   "language": "python",
   "name": "python3"
  },
  "language_info": {
   "codemirror_mode": {
    "name": "ipython",
    "version": 3
   },
   "file_extension": ".py",
   "mimetype": "text/x-python",
   "name": "python",
   "nbconvert_exporter": "python",
   "pygments_lexer": "ipython3",
   "version": "3.10.11"
  }
 },
 "nbformat": 4,
 "nbformat_minor": 5
}
