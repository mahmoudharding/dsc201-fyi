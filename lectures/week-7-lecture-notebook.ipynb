{
 "cells": [
  {
   "cell_type": "markdown",
   "id": "55f34611",
   "metadata": {},
   "source": [
    "# Week 7 Lecture Notebook\n",
    "\n",
    "## Introduction to Data Moves Using Python\n",
    "\n",
    "Today we will …\n",
    "\n",
    "- navigate the Jupyter Notebook interface.\n",
    "- import modules.\n",
    "- explore functionality from Python modules (e.g., math, NumPy, Pandas).\n",
    "- apply data moves (e.g., Summarize) to Pandas dataframes.\n"
   ]
  },
  {
   "cell_type": "markdown",
   "id": "03c0ba46-922b-48f4-a920-197dd0590d60",
   "metadata": {},
   "source": [
    "## Importing\n",
    "\n",
    "Python itself has a small built-in core. Extra functionality (like math, data analysis, working with files, web requests, etc.) is stored in modules and packages.\n",
    "\n",
    "- Modules: Single Python files (e.g., math.py)\n",
    "- Packages: Collections of modules (e.g., pandas, numpy)\n",
    "\n",
    "By importing, you reuse that code instead of writing everything from scratch.\n",
    "\n",
    "### Math"
   ]
  },
  {
   "cell_type": "code",
   "execution_count": null,
   "id": "185686aa-f053-40b9-8e07-52a1d7ecf32b",
   "metadata": {},
   "outputs": [],
   "source": [
    "pi"
   ]
  },
  {
   "cell_type": "markdown",
   "id": "5585e92a-718b-484f-b922-a1529414dde9",
   "metadata": {},
   "source": [
    "**Example 1.** Import the `math` module."
   ]
  },
  {
   "cell_type": "code",
   "execution_count": null,
   "id": "27681fc6-70ac-4ce9-91c1-425117c15918",
   "metadata": {
    "tags": []
   },
   "outputs": [],
   "source": [
    "..."
   ]
  },
  {
   "cell_type": "code",
   "execution_count": null,
   "id": "d0a595f0",
   "metadata": {},
   "outputs": [],
   "source": [
    "math.pi"
   ]
  },
  {
   "cell_type": "code",
   "execution_count": null,
   "id": "a05838db-22c5-4005-896f-15ef7a1bd97b",
   "metadata": {
    "tags": []
   },
   "outputs": [],
   "source": [
    "math.cos(math.pi)"
   ]
  },
  {
   "cell_type": "markdown",
   "id": "ab3dadc3",
   "metadata": {
    "tags": []
   },
   "source": [
    "### NumPy\n",
    "\n",
    "NumPy (short for Numerical Python) is a Python library used for numerical and scientific computing.\n",
    "\n",
    "- Provides the ndarray object for efficient storage and manipulation of arrays/matrices\n",
    "- Runs faster than plain Python lists\n",
    "- Supports advanced math operations (linear algebra, statistics, Fourier transforms, random numbers)\n",
    "- Forms the foundation for many other packages like pandas, scikit-learn, and TensorFlow\n",
    "\n",
    "#### Lists\n",
    "\n",
    "Python lists are flexible as they can hold multiple items, mix different data types, and even be multi-dimensional, but their lack of vectorized arithmetic makes them inefficient for numerical computations."
   ]
  },
  {
   "cell_type": "code",
   "execution_count": null,
   "id": "6a5a585c-a920-46b9-b2e2-34a658a3ffd7",
   "metadata": {
    "tags": []
   },
   "outputs": [],
   "source": [
    "lst1 = [1, 2, 3]\n",
    "lst2 = [4, 5, 6]"
   ]
  },
  {
   "cell_type": "code",
   "execution_count": null,
   "id": "9814dfa1",
   "metadata": {},
   "outputs": [],
   "source": [
    "lst1 + lst2"
   ]
  },
  {
   "cell_type": "code",
   "execution_count": null,
   "id": "11bc15f0-7539-4f11-8415-18e190e69d59",
   "metadata": {
    "tags": []
   },
   "outputs": [],
   "source": [
    "lst2 * 2"
   ]
  },
  {
   "cell_type": "markdown",
   "id": "99cc01e1-9756-4c1c-b121-6853fb24ce6f",
   "metadata": {},
   "source": [
    "**Example 2.** Import NumPy using the alias `np`. "
   ]
  },
  {
   "cell_type": "code",
   "execution_count": null,
   "id": "a0ea87db",
   "metadata": {},
   "outputs": [],
   "source": [
    "..."
   ]
  },
  {
   "cell_type": "markdown",
   "id": "d0633cde",
   "metadata": {},
   "source": [
    "#### Vectorized Operations\n",
    "\n",
    "Vectorized operations allow computations to be applied to entire arrays or matrices at once, rather than processing elements one by one.\n",
    "\n",
    "**Example 3.** Create arrays `arr1` and `arr2` from the values in `lst1` and `lst2`."
   ]
  },
  {
   "cell_type": "code",
   "execution_count": null,
   "id": "2a6b8a08-afdf-45b3-9d0b-53fdd140e56f",
   "metadata": {
    "tags": []
   },
   "outputs": [],
   "source": [
    "## np.array() converts input data (like a list or tuple) into a NumPy array.\n",
    "arr1 = np.array(...)\n",
    "arr2 = np.array(...)"
   ]
  },
  {
   "cell_type": "code",
   "execution_count": null,
   "id": "048e4d99-70b9-4647-8dc7-1ca1d96f0db6",
   "metadata": {
    "tags": []
   },
   "outputs": [],
   "source": [
    "print(arr1)\n",
    "print(arr2)"
   ]
  },
  {
   "cell_type": "markdown",
   "id": "8c14794f-ddc2-4581-9420-bf8fce8f8109",
   "metadata": {},
   "source": [
    "**Example 4.** Print the type for `arr1` and `arr2`."
   ]
  },
  {
   "cell_type": "code",
   "execution_count": null,
   "id": "810d6460-99a0-45d2-bce1-c256cc3a9647",
   "metadata": {
    "tags": []
   },
   "outputs": [],
   "source": [
    "print(type(arr1))\n",
    "print(type(arr2))"
   ]
  },
  {
   "cell_type": "markdown",
   "id": "f0d5af08-9d85-4f6a-a5ad-305fa22ab572",
   "metadata": {},
   "source": [
    "**Example 5.** Add `arr1` and `arr2`."
   ]
  },
  {
   "cell_type": "code",
   "execution_count": null,
   "id": "858e6b3b-2538-4b01-af1f-4fa818b99b3a",
   "metadata": {
    "tags": []
   },
   "outputs": [],
   "source": [
    "arr1 + arr2"
   ]
  },
  {
   "cell_type": "markdown",
   "id": "6f059c76-e76d-429b-b277-80c1d86cf9ad",
   "metadata": {},
   "source": [
    "**Example 6.** Square the values in `arr1` and `arr2`."
   ]
  },
  {
   "cell_type": "code",
   "execution_count": null,
   "id": "17528bc7-2865-47e3-9bca-e7669be3cd49",
   "metadata": {
    "tags": []
   },
   "outputs": [],
   "source": [
    "...(arr1)"
   ]
  },
  {
   "cell_type": "markdown",
   "id": "82b15890-7372-4004-9992-735ff33ca56d",
   "metadata": {},
   "source": [
    "**Example 7.** Take the log (base $e$) of the values in `arr1` and `arr2`."
   ]
  },
  {
   "cell_type": "code",
   "execution_count": null,
   "id": "08486684-7e04-482e-893f-67e4e709b5fd",
   "metadata": {
    "tags": []
   },
   "outputs": [],
   "source": [
    "...(arr1)"
   ]
  },
  {
   "cell_type": "markdown",
   "id": "75f339f3-1a38-4e3f-8c5f-b4dc48beb3c8",
   "metadata": {},
   "source": [
    "## Pandas\n",
    "\n",
    "Pandas is an open source Python package that is most widely used for data science, data analysis and machine learning tasks. It is built on top of another library named `Numpy`, which provides support for arrays. Since we know how to perform operations on `NumPy` arrays we can operate on columns in a `pandas` dataframe. \n",
    "\n",
    "Pandas is a fast, powerful, flexible and (sometimes) easy to use open source data analysis and manipulation tool. Click the `Cheat Sheet` below to access the Data Wrangling with `pandas` [Cheat Sheet](https://pandas.pydata.org/Pandas_Cheat_Sheet.pdf)."
   ]
  },
  {
   "cell_type": "markdown",
   "id": "0268dfd4-0c9a-4229-9776-be3597c805d1",
   "metadata": {},
   "source": [
    "**Example 8.** Import Pandas with the alias `pd`."
   ]
  },
  {
   "cell_type": "code",
   "execution_count": null,
   "id": "c5ee6dff-b005-47a0-921e-0b647bb3e65f",
   "metadata": {},
   "outputs": [],
   "source": [
    "..."
   ]
  },
  {
   "cell_type": "code",
   "execution_count": null,
   "id": "6bfd5751-f3b3-4ea2-96fb-4576b6b34bc5",
   "metadata": {},
   "outputs": [],
   "source": [
    "## Read the CSV file skyscrapers.csv from the data directory \n",
    "## and store the data in a DataFrame named skyscrapers\n",
    "ss = pd.read_csv('...')"
   ]
  },
  {
   "cell_type": "markdown",
   "id": "d66f0f4c-b017-4e5b-9561-fe1066d6b338",
   "metadata": {
    "tags": []
   },
   "source": [
    "### Pandas Dataframe\n",
    "\n",
    "A `pandas` `DataFrame` is a two-dimensional, labeled data structure in Python, similar to a table in Excel or an R dataframe. It organizes data into rows and columns, where rows represent observations (with an index label) and columns represent variables. Each column is a `pandas` `Series`, which has a name and holds data of the same type (such as numbers, text, or dates)."
   ]
  },
  {
   "cell_type": "markdown",
   "id": "a3bc95db-dd25-4ee5-b70c-38e34936e861",
   "metadata": {},
   "source": [
    "### Attributes & Methods\n",
    "\n",
    "#### Attributes\n",
    "\n",
    "An attribute is a property of the object. You don’t call it with () — you just access it, because it usually _**describes something**_ about the object."
   ]
  },
  {
   "cell_type": "code",
   "execution_count": null,
   "id": "b3bee9db-52c8-4f4d-95f4-cd0ee08dea83",
   "metadata": {
    "tags": []
   },
   "outputs": [],
   "source": [
    "## .columns returns the column names as an Index object\n",
    "ss.columns"
   ]
  },
  {
   "cell_type": "code",
   "execution_count": null,
   "id": "b80a9a45-a902-420a-bc49-c32f394095ee",
   "metadata": {
    "tags": []
   },
   "outputs": [],
   "source": [
    "## .shape returns the dimensions of dimensions of a dataframe or series\n",
    "ss.shape"
   ]
  },
  {
   "cell_type": "markdown",
   "id": "36e304da-4df8-41bc-9a6e-f6b65574817a",
   "metadata": {},
   "source": [
    "#### Methods\n",
    "\n",
    "A method is a function attached to an object. You call it with parentheses () because it usually _**does something**_ (like computation, printing, or transforming data)."
   ]
  },
  {
   "cell_type": "code",
   "execution_count": null,
   "id": "c87f2447-501f-47ec-bf04-efc7b1c369b3",
   "metadata": {
    "tags": []
   },
   "outputs": [],
   "source": [
    "## The .head() method displays the rows in a Pandas datafram\n",
    "ss.head()"
   ]
  },
  {
   "cell_type": "code",
   "execution_count": null,
   "id": "6ac3145a-8d26-4e75-9b9c-cd3b31280660",
   "metadata": {
    "tags": []
   },
   "outputs": [],
   "source": [
    "## The .head() method displays the rows in a Pandas datafram\n",
    "ss.head()"
   ]
  },
  {
   "cell_type": "code",
   "execution_count": null,
   "id": "7d8ffe51-1cb6-4e86-927e-241d760c1c99",
   "metadata": {
    "tags": []
   },
   "outputs": [],
   "source": [
    "## The .head() method displays the rows in a Pandas datafram\n",
    "ss.head()"
   ]
  },
  {
   "cell_type": "code",
   "execution_count": null,
   "id": "e8f3343e-a7cb-481d-b681-e1ff709df1c8",
   "metadata": {
    "tags": []
   },
   "outputs": [],
   "source": [
    "## The .head() method displays the rows in a Pandas datafram\n",
    "ss.head()"
   ]
  },
  {
   "cell_type": "code",
   "execution_count": null,
   "id": "9a14c3ee-99a4-4f80-b1e3-9d772ec3b78b",
   "metadata": {
    "tags": []
   },
   "outputs": [],
   "source": [
    "## The .info() method prints a summary of the dataframe structure\n",
    "ss.info()"
   ]
  },
  {
   "cell_type": "markdown",
   "id": "82303e7c-3cc6-4e36-a3e9-bcb0cf260d27",
   "metadata": {},
   "source": [
    "## Data Wrangling with Pandas Methods\n",
    "\n",
    "Data wrangling with pandas methods involves cleaning, reshaping, and preparing data for analysis. Pandas provides powerful methods such as `.drop()` to remove rows or columns, `.rename()` to adjust labels, and `.astype()` to change data types. These methods make it easy to transform raw datasets into tidy, structured dataframes that are ready for exploration and analysis."
   ]
  },
  {
   "cell_type": "code",
   "execution_count": null,
   "id": "05529e12-7b78-4347-a80e-0068a847d062",
   "metadata": {
    "tags": []
   },
   "outputs": [],
   "source": [
    "## The .drop() method removes specified rows or columns from a dataframe\n",
    "ss = ss.drop(columns = ...)"
   ]
  },
  {
   "cell_type": "code",
   "execution_count": null,
   "id": "bc72ea3a-2d97-4cf5-8c32-ec774e373213",
   "metadata": {
    "tags": []
   },
   "outputs": [],
   "source": [
    "## The .rename() method changes the labels of rows or columns in a dataframe\n",
    "ss = ss.rename(\n",
    "    columns = {\n",
    "        ... : 'status_started',\n",
    "        ... : 'status_completed',\n",
    "        ... : 'height_meters'\n",
    "    }\n",
    ")\n",
    "\n",
    "## Verify that the column names have changed\n",
    "ss.columns"
   ]
  },
  {
   "cell_type": "markdown",
   "id": "348efca1-7706-4025-94b9-1d828f83fb75",
   "metadata": {},
   "source": [
    "**Example 9.** Access the `height_meters` column from the `ss` dataframe."
   ]
  },
  {
   "cell_type": "code",
   "execution_count": null,
   "id": "3ca854cd-999e-42f7-a51b-c4c2908c9d50",
   "metadata": {
    "tags": []
   },
   "outputs": [],
   "source": [
    "..."
   ]
  },
  {
   "cell_type": "code",
   "execution_count": null,
   "id": "d93acd51-bd6a-474f-a458-889ab47dc7e1",
   "metadata": {
    "tags": []
   },
   "outputs": [],
   "source": [
    "## The .to_list() method converts a Pandas Series into a Python list\n",
    "print(ss['floors'].to_list())"
   ]
  },
  {
   "cell_type": "markdown",
   "id": "09186d2b-29ab-4fa1-a6d3-001fbcc356a1",
   "metadata": {},
   "source": [
    "**Example 10.** Filter the `ss` dataframe to find the rows where floor is either `'103 floors'` or `'73 (68 Above Ground and 5 Below Ground)'`."
   ]
  },
  {
   "cell_type": "code",
   "execution_count": null,
   "id": "598d57eb-c687-4009-bb07-3f8e324bc0ec",
   "metadata": {},
   "outputs": [],
   "source": [
    "ss['floors']"
   ]
  },
  {
   "cell_type": "code",
   "execution_count": null,
   "id": "a45eb679-351b-45c4-880a-62ad6c18e182",
   "metadata": {},
   "outputs": [],
   "source": [
    "print(ss['floors'].to_list())"
   ]
  },
  {
   "cell_type": "code",
   "execution_count": null,
   "id": "effbd79e-1ace-448a-9b6d-bbdcf5b6cf1a",
   "metadata": {},
   "outputs": [],
   "source": [
    "ss['floors'] == ..."
   ]
  },
  {
   "cell_type": "code",
   "execution_count": null,
   "id": "9e38c2ab-a9ce-4719-a37a-f94b1bf3532b",
   "metadata": {},
   "outputs": [],
   "source": [
    "ss['floors'] == ..."
   ]
  },
  {
   "cell_type": "code",
   "execution_count": null,
   "id": "a2268157-eff1-45f8-a2b8-e71e9d95bbb8",
   "metadata": {},
   "outputs": [],
   "source": [
    "(ss['floors'] == ...) | (ss['floors'] == ...)"
   ]
  },
  {
   "cell_type": "code",
   "execution_count": null,
   "id": "64af25f8-2959-4b46-8f86-7ec03427fdc4",
   "metadata": {},
   "outputs": [],
   "source": [
    "..."
   ]
  },
  {
   "cell_type": "code",
   "execution_count": null,
   "id": "e4441118-9c3b-4ffd-a755-39b0e90d7763",
   "metadata": {
    "tags": []
   },
   "outputs": [],
   "source": [
    "..."
   ]
  },
  {
   "cell_type": "code",
   "execution_count": null,
   "id": "1a564945-0f43-4239-bdee-a63e772ece0b",
   "metadata": {
    "tags": []
   },
   "outputs": [],
   "source": [
    "mask = ...\n",
    "ss[mask]"
   ]
  },
  {
   "cell_type": "code",
   "execution_count": null,
   "id": "da5caa63-9e63-474d-a2fc-bb0fb81b4753",
   "metadata": {
    "tags": []
   },
   "outputs": [],
   "source": [
    "## The .loc[] attribute accesses rows and columns in a dataframe by their labels.\n",
    "ss.loc[48]"
   ]
  },
  {
   "cell_type": "code",
   "execution_count": null,
   "id": "9c7bb932-16f0-4d99-998b-648080f20c6c",
   "metadata": {
    "tags": []
   },
   "outputs": [],
   "source": [
    "## The .loc[] attribute accesses rows and columns in a dataframe by their labels.\n",
    "ss.loc[61]"
   ]
  },
  {
   "cell_type": "code",
   "execution_count": null,
   "id": "f3e3ee27-4a56-44b6-9dc3-15c487f3e00a",
   "metadata": {
    "tags": []
   },
   "outputs": [],
   "source": [
    "## The .loc[] attribute accesses rows and columns in a dataframe by their labels.\n",
    "ss.loc[48, 'floors'] = ..."
   ]
  },
  {
   "cell_type": "code",
   "execution_count": null,
   "id": "a6e99a78-e3e7-4f97-8ea7-26fc569d9aa8",
   "metadata": {},
   "outputs": [],
   "source": [
    "## The .loc[] attribute accesses rows and columns in a dataframe by their labels.\n",
    "ss.loc[61, 'floors'] = ..."
   ]
  },
  {
   "cell_type": "code",
   "execution_count": null,
   "id": "309a0cbe-c117-40a8-b2c8-ab46c6989672",
   "metadata": {
    "tags": []
   },
   "outputs": [],
   "source": [
    "## Verify that the values have changed\n",
    "ss.loc[[48, 61], 'floors']"
   ]
  },
  {
   "cell_type": "markdown",
   "id": "7e28f233-5eda-45ae-bdcb-1798607dd1f7",
   "metadata": {},
   "source": [
    "**Example 11.** Convert the `floors` column of the `ss` dataframe into integers."
   ]
  },
  {
   "cell_type": "code",
   "execution_count": null,
   "id": "584b2435-c891-40e8-8798-3b3e0c54e298",
   "metadata": {
    "tags": []
   },
   "outputs": [],
   "source": [
    "print(ss['floors'].to_list())"
   ]
  },
  {
   "cell_type": "code",
   "execution_count": null,
   "id": "b41d5fe4-44f8-4e7b-969a-d27a5c7c229c",
   "metadata": {
    "tags": []
   },
   "outputs": [],
   "source": [
    "ss['floors'] = ss['floors'].astype(...)\n",
    "\n",
    "## Verify the data type of thecolumn has changed\n",
    "ss.info()"
   ]
  },
  {
   "cell_type": "markdown",
   "id": "6b40210d-c31b-4a4f-8e2f-ea468a26c503",
   "metadata": {},
   "source": [
    "## Data Moves\n",
    "\n",
    "Data moves are the set of actions that analysts take to transform a dataset—such as grouping or filtering data, creating new summary variables, or restructuring the dataset to highlight or alter specific features of the data and enable different analytical techniques (Erickson et. al 2019).\n",
    "\n",
    "### Summarizing Non-Numerical Data (Categorical & Logical)\n",
    "\n",
    "Categorical and logical variables can also be summarized using frequency counts.\n",
    "\n",
    "**Example 11.** Compute the frequency distribution of country names in the dataset."
   ]
  },
  {
   "cell_type": "code",
   "execution_count": null,
   "id": "d382802c-9040-4490-ab61-6262b3a35dc6",
   "metadata": {
    "tags": []
   },
   "outputs": [],
   "source": [
    "## The .value_counts() method returns the frequency of unique values in a Series.\n",
    "ss['country']"
   ]
  },
  {
   "cell_type": "code",
   "execution_count": null,
   "id": "bac679c8-7ecf-444b-8358-b63ec77da4c6",
   "metadata": {
    "tags": []
   },
   "outputs": [],
   "source": [
    "## The .value_counts(normalize=True) method returns the proportions of unique values in a Series.\n",
    "ss['country']"
   ]
  },
  {
   "cell_type": "markdown",
   "id": "c3d57959-67ca-4a88-871e-e54cceb55539",
   "metadata": {},
   "source": [
    "### Summarizing Numerical Data\n",
    "\n",
    "The summarizing data move involves condensing data by calculating key measures such as counts, averages, percentages, or other summary statistics. This reduction can reveal patterns and trends, making the information easier to interpret and compare."
   ]
  },
  {
   "cell_type": "code",
   "execution_count": null,
   "id": "5e90bd5c-ea00-4737-be48-fea3b1daf169",
   "metadata": {
    "tags": []
   },
   "outputs": [],
   "source": [
    "## The .mean() method calculates the average value of a numeric Series.\n",
    "ss.floors"
   ]
  },
  {
   "cell_type": "code",
   "execution_count": null,
   "id": "4bf93839-6f80-423d-b559-b3aa4946d07a",
   "metadata": {
    "tags": []
   },
   "outputs": [],
   "source": [
    "## The .describe() method generates summary statistics for a Series or dataframe, \n",
    "## including count, mean, standard deviation, minimum, quartiles, and maximum.\n",
    "ss.floors"
   ]
  }
 ],
 "metadata": {
  "kernelspec": {
   "display_name": "Python 3 (ipykernel)",
   "language": "python",
   "name": "python3"
  },
  "language_info": {
   "codemirror_mode": {
    "name": "ipython",
    "version": 3
   },
   "file_extension": ".py",
   "mimetype": "text/x-python",
   "name": "python",
   "nbconvert_exporter": "python",
   "pygments_lexer": "ipython3",
   "version": "3.10.11"
  }
 },
 "nbformat": 4,
 "nbformat_minor": 5
}
