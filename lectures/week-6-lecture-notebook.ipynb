{
 "cells": [
  {
   "cell_type": "markdown",
   "id": "55f34611",
   "metadata": {},
   "source": [
    "# Week 6 Lecture Notebook\n",
    "\n",
    "## Introduction to Jupyter Notebooks & Python Fundamentals\n",
    "\n",
    "Today we will…\n",
    "\n",
    "- navigate the Jupyter Notebook interface\n",
    "- explore basic Python data structures"
   ]
  },
  {
   "cell_type": "markdown",
   "id": "03c0ba46-922b-48f4-a920-197dd0590d60",
   "metadata": {},
   "source": [
    "## What is a Jupyter Notebook?\n",
    "\n",
    "A Jupyter Notebook is an interactive tool for writing code, running it, making visualizations, and adding text or images all in one place. It’s popular in data science for combining code with explanation.\n",
    "\n",
    "### Modes\n",
    "\n",
    "* **Edit mode**: Type or edit content in a cell.\n",
    "* **Command mode**: Manage cells (add, delete, move) but can’t edit content.\n",
    "\n",
    "### Kernel\n",
    "\n",
    "The kernel runs your code:\n",
    "\n",
    "* **Idle (⚪)**: Ready to run code\n",
    "* **Busy (⚫)**: Running code\n",
    "\n",
    "### Cells\n",
    "\n",
    "Two types:\n",
    "\n",
    "* **Code cells**: Run Python code.\n",
    "* **Markdown cells**: Add text or formatting.\n",
    "\n",
    "### Running Cells\n",
    "\n",
    "1. `[ ]`: Mot run yet (Idle)\n",
    "2. `[*]`: Running (Busy)\n",
    "3. `[1]`, `[2]`, … : Run order\n",
    "\n",
    "Run a cell with **Shift + Enter** or ▶|.\n",
    "\n",
    "If code hangs:\n",
    "\n",
    "* **Kernel → Interrupt**\n",
    "* If needed, **Kernel → Restart** and re-run cells."
   ]
  },
  {
   "cell_type": "markdown",
   "id": "ce828b94-2627-486d-9d72-6cbd5c0ee52c",
   "metadata": {},
   "source": [
    "## Python Data Types\n",
    "\n",
    "Common built‑in types you'll use constantly:\n",
    "\n",
    "- `int`: Whole numbers\n",
    "- `float`: Decimal numbers\n",
    "- `str`: Text\n",
    "- `bool`: Logical `True` | `False`\n",
    "- `NoneType`: The special value `None` (absence of a value)"
   ]
  },
  {
   "cell_type": "markdown",
   "id": "5e7c3165-977d-4f59-813c-5f20b6d0d434",
   "metadata": {},
   "source": [
    "## Assignment Statements\n",
    "\n",
    "- Standard: `variable_name = expression`\n",
    "- Augmented assignment: `+=`, `-=`, etc.\n",
    "\n",
    "**Example 1.** Create variables for each data type: `int`, `float`, `str`, and `bool`."
   ]
  },
  {
   "cell_type": "code",
   "execution_count": null,
   "id": "d0a595f0",
   "metadata": {},
   "outputs": [],
   "source": [
    "age = ...    \n",
    "pi = ...\n",
    "check_value = ...\n",
    "hello_string = ...\n",
    "\n",
    "print(f\"The variable age = {age} and is {type(age)}.\")\n",
    "print(f\"The variable pi = {pi} and is {type(pi)}.\")\n",
    "print(f\"The variable check_value = {check_value} and is {type(check_value)}.\")\n",
    "print(f\"The variable hello_string = {hello_string} and is {type(hello_string)}.\")"
   ]
  },
  {
   "cell_type": "markdown",
   "id": "ab3dadc3",
   "metadata": {},
   "source": [
    "## Arithmetic\n",
    "\n",
    "Python uses standard symbols for basic arithmetic.\n",
    "\n",
    "| Operation      | Symbol | Example  | Result |\n",
    "| -------------- | ------ | -------- | ------ |\n",
    "| Addition       | `+`    | `3 + 2`  | `5`    |\n",
    "| Subtraction    | `-`    | `5 - 1`  | `4`    |\n",
    "| Multiplication | `*`    | `4 * 2`  | `8`    |\n",
    "| Division       | `/`    | `8 / 2`  | `4.0`  |\n",
    "| Exponentiation | `**`   | `2 ** 3` | `8`    |\n",
    "\n",
    "**Example 2.** Write an arithmetic expression that uses `+`, `-`, `*`, `/`, and `**` and evaluates to 2025."
   ]
  },
  {
   "cell_type": "code",
   "execution_count": null,
   "id": "a0ea87db",
   "metadata": {},
   "outputs": [],
   "source": [
    "result = ...\n",
    "print(int(result))"
   ]
  },
  {
   "cell_type": "markdown",
   "id": "a3fec9cf",
   "metadata": {},
   "source": [
    "\n",
    "## Why Jupyter Shows Only the Last Expression’s Value\n",
    "In a Jupyter code cell, **only the value of the last expression** (not assigned to a name) is displayed automatically.\n",
    "\n",
    "- To show multiple things, explicitly print them with `print()`.\n",
    "- Or split logic into multiple cells.\n"
   ]
  },
  {
   "cell_type": "code",
   "execution_count": null,
   "id": "9814dfa1",
   "metadata": {},
   "outputs": [],
   "source": [
    "# Only the last expression will auto-display:\n",
    "\"first value\"\n",
    "\"second value\""
   ]
  },
  {
   "cell_type": "code",
   "execution_count": null,
   "id": "962e10a7",
   "metadata": {},
   "outputs": [],
   "source": [
    "# Use print() to display multiple results within the same cell:\n",
    "print(\"first value\")\n",
    "print(\"second value\")"
   ]
  },
  {
   "cell_type": "markdown",
   "id": "d0633cde",
   "metadata": {},
   "source": [
    "## Lists\n",
    "\n",
    "Mutable, ordered collections. Good for sequences you will modify.\n",
    "\n",
    "Core operations & methods:\n",
    "- Indexing & slicing: `lst[0]`, `lst[-1]`, `lst[1:4]`\n",
    "- Adding: `.append(x)`, `.extend(iterable)`, `.insert(i, x)`\n",
    "- Removing: `.pop()`, `.remove(x)`\n",
    "- Sorting: `.sort()` (in‑place) vs `sorted(lst)` (returns a new list)"
   ]
  },
  {
   "cell_type": "markdown",
   "id": "e9e76b5f",
   "metadata": {},
   "source": [
    "## Tuples\n",
    "\n",
    "Immutable, ordered collections. Great for fixed‑size records and returning multiple values.\n",
    "\n",
    "Key points & methods:\n",
    "- Creation: `(1, 2, 3)` or `1, 2, 3`\n",
    "- Immutability: you **cannot** reassign items\n",
    "- Methods: `.count(value)`, `.index(value)`"
   ]
  },
  {
   "cell_type": "markdown",
   "id": "58c57b3a",
   "metadata": {},
   "source": [
    "## Dictionaries\n",
    "\n",
    "Mappings of **keys** to **values**. Super useful for labeled data.\n",
    "\n",
    "**Core operations & idioms:**\n",
    "- Access & insert: `d[key]`, `d[key] = value`\n",
    "- Safe access: `d.get(key, default)`\n",
    "- Membership (keys): `key in d`\n",
    "- Views: `d.keys()`, `d.values()`, `d.items()`\n",
    "- Update/merge: `d.update(other)` (right-hand wins)\n",
    "- Remove: `d.pop(key, default)`"
   ]
  },
  {
   "cell_type": "code",
   "execution_count": null,
   "id": "68493663",
   "metadata": {},
   "outputs": [],
   "source": [
    "ncsu = {\n",
    "    \"name\": \"North Carolina State University at Raleigh\",\n",
    "    \"city\": \"Raleigh\",\n",
    "    \"state\": \"NC\",\n",
    "    \"region\": \"South\",\n",
    "    \"median_debt\": 17.5,\n",
    "    \"default_rate\": 2.0,\n",
    "    \"highest_degree\": \"Graduate\",\n",
    "    \"ownership\": \"Public\",\n",
    "    \"locale\": \"Large City\",\n",
    "    \"hbcu\": \"No\",\n",
    "    \"admit_rate\": 46.22,\n",
    "    \"SAT_avg\": 1343.0,\n",
    "    \"online_only\": \"No\",\n",
    "    \"enrollment\": 24671,\n",
    "    \"net_price\": 16.411,\n",
    "    \"avg_cost\": 24.202,\n",
    "    \"net_tuition\": 11.16,\n",
    "    \"ed_spending_per_student\": 15.681,\n",
    "    \"avg_faculty_salary\": 11.096,\n",
    "    \"pct_PELL\": 19.5,\n",
    "    \"pct_fed_loan\": 36.98,\n",
    "    \"grad_rate\": 83.9,\n",
    "    \"pct_firstgen\": 19.2916738,\n",
    "    \"med_fam_income\": 64.9,\n",
    "    \"med_alum_earnings\": 61.353,\n",
    "    \"colors\": (\"Red\", \"White\"),\n",
    "    \"mascot\": (\"Wolfpack\"),\n",
    "    \"mascot_name\": [\"Mr. & Mrs. Wuf\"]\n",
    "}"
   ]
  }
 ],
 "metadata": {
  "kernelspec": {
   "display_name": "Python 3 (ipykernel)",
   "language": "python",
   "name": "python3"
  },
  "language_info": {
   "codemirror_mode": {
    "name": "ipython",
    "version": 3
   },
   "file_extension": ".py",
   "mimetype": "text/x-python",
   "name": "python",
   "nbconvert_exporter": "python",
   "pygments_lexer": "ipython3",
   "version": "3.10.11"
  }
 },
 "nbformat": 4,
 "nbformat_minor": 5
}
