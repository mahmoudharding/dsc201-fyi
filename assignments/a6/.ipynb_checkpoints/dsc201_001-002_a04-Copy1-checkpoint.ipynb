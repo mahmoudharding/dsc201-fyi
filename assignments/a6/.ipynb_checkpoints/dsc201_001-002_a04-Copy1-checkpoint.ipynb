{
 "cells": [
  {
   "cell_type": "markdown",
   "id": "1d8c82d7",
   "metadata": {},
   "source": [
    "# Assignment A4 - Introduction to Data Moves Using Python \n",
    "\n",
    "## Due: See Date in Moodle\n",
    "\n",
    "## This Week's Assignment\n",
    "\n",
    "In this week's assignment, you'll:\n",
    "\n",
    "- Explore the core data types and data structures in base R.\n",
    "\n",
    "- Apply the summarize data move to categorical and numeric variables.\n",
    "\n",
    "## Guidelines\n",
    "\n",
    "- Follow good programming practices by using descriptive variable names, maintaining appropriate spacing for readability, and adding comments to clarify your code.\n",
    "\n",
    "- Ensure written responses use correct spelling, complete sentences, and proper grammar.\n",
    "\n",
    "**Name:** \n",
    "\n",
    "**Section:** \n",
    "\n",
    "**Date:** \n",
    "\n",
    "Let's get started!\n",
    "\n",
    "## Introductuon \n",
    "\n",
    "This week’s dataset comes from the second edition of [\"An Introduction to Statistical Learning\" by James et al](https://www.statlearning.com/resources-second-edition). A 1995 snapshot of over 700 U.S. colleges and universities as reported by the U.S. News & World Report. The dataset covers information such as admissions, costs, student profile, faculty credentials, and outcomes.\n",
    "\n",
    "\n",
    "For more detailed information refer to the [datasheet](https://docs.google.com/document/d/1ZzHoAoZ_vhhDLSlY4H4nVz6H-Zy_o_oNNju52Yns_0g/edit?usp=sharing).\n",
    "\n",
    "## Import Libraries\n",
    "\n",
    "**Question 1.** Import the Pandas library with the appropriate aliasing."
   ]
  },
  {
   "cell_type": "code",
   "execution_count": 1,
   "id": "9193d11c-11af-4f2c-97ef-4ff17425b67c",
   "metadata": {
    "tags": []
   },
   "outputs": [],
   "source": [
    "import pandas as pd # YOUR CODE GOES IN PLACE OF THE ELLIPSES ..."
   ]
  },
  {
   "cell_type": "markdown",
   "id": "4f711bd9-766f-4546-9e95-d49a28669c22",
   "metadata": {},
   "source": [
    "## Load and Verify Data\n",
    "\n",
    "**Question 2.** Load the `colleges.csv` file into an Pandas dataframe named `colleges`. Once loaded, display the first 5 rows of the dataframe to preview its contents and ensure it was imported correctly."
   ]
  },
  {
   "cell_type": "code",
   "execution_count": 2,
   "id": "bbe63168",
   "metadata": {},
   "outputs": [
    {
     "data": {
      "text/html": [
       "<div>\n",
       "<style scoped>\n",
       "    .dataframe tbody tr th:only-of-type {\n",
       "        vertical-align: middle;\n",
       "    }\n",
       "\n",
       "    .dataframe tbody tr th {\n",
       "        vertical-align: top;\n",
       "    }\n",
       "\n",
       "    .dataframe thead th {\n",
       "        text-align: right;\n",
       "    }\n",
       "</style>\n",
       "<table border=\"1\" class=\"dataframe\">\n",
       "  <thead>\n",
       "    <tr style=\"text-align: right;\">\n",
       "      <th></th>\n",
       "      <th>OPEID</th>\n",
       "      <th>name</th>\n",
       "      <th>city</th>\n",
       "      <th>state</th>\n",
       "      <th>region</th>\n",
       "      <th>median_debt</th>\n",
       "      <th>default_rate</th>\n",
       "      <th>highest_degree</th>\n",
       "      <th>ownership</th>\n",
       "      <th>locale</th>\n",
       "      <th>...</th>\n",
       "      <th>avg_cost</th>\n",
       "      <th>net_tuition</th>\n",
       "      <th>ed_spending_per_student</th>\n",
       "      <th>avg_faculty_salary</th>\n",
       "      <th>pct_PELL</th>\n",
       "      <th>pct_fed_loan</th>\n",
       "      <th>grad_rate</th>\n",
       "      <th>pct_firstgen</th>\n",
       "      <th>med_fam_income</th>\n",
       "      <th>med_alum_earnings</th>\n",
       "    </tr>\n",
       "  </thead>\n",
       "  <tbody>\n",
       "    <tr>\n",
       "      <th>0</th>\n",
       "      <td>100200</td>\n",
       "      <td>Alabama A &amp; M University</td>\n",
       "      <td>Normal</td>\n",
       "      <td>AL</td>\n",
       "      <td>South</td>\n",
       "      <td>15.250</td>\n",
       "      <td>12.1</td>\n",
       "      <td>Graduate</td>\n",
       "      <td>Public</td>\n",
       "      <td>Small City</td>\n",
       "      <td>...</td>\n",
       "      <td>23.445</td>\n",
       "      <td>8.101</td>\n",
       "      <td>4.836</td>\n",
       "      <td>7.599</td>\n",
       "      <td>70.95</td>\n",
       "      <td>75.04</td>\n",
       "      <td>28.66</td>\n",
       "      <td>36.582809</td>\n",
       "      <td>23.5530</td>\n",
       "      <td>36.339</td>\n",
       "    </tr>\n",
       "    <tr>\n",
       "      <th>1</th>\n",
       "      <td>105200</td>\n",
       "      <td>University of Alabama at Birmingham</td>\n",
       "      <td>Birmingham</td>\n",
       "      <td>AL</td>\n",
       "      <td>South</td>\n",
       "      <td>15.085</td>\n",
       "      <td>4.8</td>\n",
       "      <td>Graduate</td>\n",
       "      <td>Public</td>\n",
       "      <td>Small City</td>\n",
       "      <td>...</td>\n",
       "      <td>25.542</td>\n",
       "      <td>11.986</td>\n",
       "      <td>14.691</td>\n",
       "      <td>11.380</td>\n",
       "      <td>33.97</td>\n",
       "      <td>46.88</td>\n",
       "      <td>61.17</td>\n",
       "      <td>34.122367</td>\n",
       "      <td>34.4890</td>\n",
       "      <td>46.990</td>\n",
       "    </tr>\n",
       "    <tr>\n",
       "      <th>2</th>\n",
       "      <td>2503400</td>\n",
       "      <td>Amridge University</td>\n",
       "      <td>Montgomery</td>\n",
       "      <td>AL</td>\n",
       "      <td>South</td>\n",
       "      <td>10.984</td>\n",
       "      <td>12.9</td>\n",
       "      <td>Graduate</td>\n",
       "      <td>Private nonprofit</td>\n",
       "      <td>Small City</td>\n",
       "      <td>...</td>\n",
       "      <td>20.100</td>\n",
       "      <td>13.890</td>\n",
       "      <td>3.664</td>\n",
       "      <td>4.545</td>\n",
       "      <td>74.52</td>\n",
       "      <td>84.93</td>\n",
       "      <td>25.00</td>\n",
       "      <td>51.250000</td>\n",
       "      <td>15.0335</td>\n",
       "      <td>37.895</td>\n",
       "    </tr>\n",
       "    <tr>\n",
       "      <th>3</th>\n",
       "      <td>105500</td>\n",
       "      <td>University of Alabama in Huntsville</td>\n",
       "      <td>Huntsville</td>\n",
       "      <td>AL</td>\n",
       "      <td>South</td>\n",
       "      <td>14.000</td>\n",
       "      <td>4.7</td>\n",
       "      <td>Graduate</td>\n",
       "      <td>Public</td>\n",
       "      <td>Small City</td>\n",
       "      <td>...</td>\n",
       "      <td>24.861</td>\n",
       "      <td>8.279</td>\n",
       "      <td>8.320</td>\n",
       "      <td>9.697</td>\n",
       "      <td>24.03</td>\n",
       "      <td>38.55</td>\n",
       "      <td>57.14</td>\n",
       "      <td>31.013216</td>\n",
       "      <td>44.7870</td>\n",
       "      <td>54.361</td>\n",
       "    </tr>\n",
       "    <tr>\n",
       "      <th>4</th>\n",
       "      <td>100500</td>\n",
       "      <td>Alabama State University</td>\n",
       "      <td>Montgomery</td>\n",
       "      <td>AL</td>\n",
       "      <td>South</td>\n",
       "      <td>17.500</td>\n",
       "      <td>12.8</td>\n",
       "      <td>Graduate</td>\n",
       "      <td>Public</td>\n",
       "      <td>Small City</td>\n",
       "      <td>...</td>\n",
       "      <td>21.892</td>\n",
       "      <td>9.302</td>\n",
       "      <td>9.579</td>\n",
       "      <td>7.194</td>\n",
       "      <td>73.68</td>\n",
       "      <td>78.05</td>\n",
       "      <td>31.77</td>\n",
       "      <td>34.343434</td>\n",
       "      <td>22.0805</td>\n",
       "      <td>32.084</td>\n",
       "    </tr>\n",
       "  </tbody>\n",
       "</table>\n",
       "<p>5 rows × 26 columns</p>\n",
       "</div>"
      ],
      "text/plain": [
       "     OPEID                                 name        city state region  \\\n",
       "0   100200             Alabama A & M University      Normal    AL  South   \n",
       "1   105200  University of Alabama at Birmingham  Birmingham    AL  South   \n",
       "2  2503400                   Amridge University  Montgomery    AL  South   \n",
       "3   105500  University of Alabama in Huntsville  Huntsville    AL  South   \n",
       "4   100500             Alabama State University  Montgomery    AL  South   \n",
       "\n",
       "   median_debt  default_rate highest_degree          ownership      locale  \\\n",
       "0       15.250          12.1       Graduate             Public  Small City   \n",
       "1       15.085           4.8       Graduate             Public  Small City   \n",
       "2       10.984          12.9       Graduate  Private nonprofit  Small City   \n",
       "3       14.000           4.7       Graduate             Public  Small City   \n",
       "4       17.500          12.8       Graduate             Public  Small City   \n",
       "\n",
       "   ... avg_cost  net_tuition  ed_spending_per_student avg_faculty_salary  \\\n",
       "0  ...   23.445        8.101                    4.836              7.599   \n",
       "1  ...   25.542       11.986                   14.691             11.380   \n",
       "2  ...   20.100       13.890                    3.664              4.545   \n",
       "3  ...   24.861        8.279                    8.320              9.697   \n",
       "4  ...   21.892        9.302                    9.579              7.194   \n",
       "\n",
       "   pct_PELL  pct_fed_loan  grad_rate  pct_firstgen  med_fam_income  \\\n",
       "0     70.95         75.04      28.66     36.582809         23.5530   \n",
       "1     33.97         46.88      61.17     34.122367         34.4890   \n",
       "2     74.52         84.93      25.00     51.250000         15.0335   \n",
       "3     24.03         38.55      57.14     31.013216         44.7870   \n",
       "4     73.68         78.05      31.77     34.343434         22.0805   \n",
       "\n",
       "   med_alum_earnings  \n",
       "0             36.339  \n",
       "1             46.990  \n",
       "2             37.895  \n",
       "3             54.361  \n",
       "4             32.084  \n",
       "\n",
       "[5 rows x 26 columns]"
      ]
     },
     "execution_count": 2,
     "metadata": {},
     "output_type": "execute_result"
    }
   ],
   "source": [
    "## Load the dataset\n",
    "colleges = pd.read_csv('data/colleges.csv') # YOUR CODE GOES HERE\n",
    "\n",
    "## Display the first 5 rows\n",
    "colleges.head() # YOUR CODE GOES IN PLACE OF THE ELLIPSES ..."
   ]
  },
  {
   "cell_type": "markdown",
   "id": "fc7fa895",
   "metadata": {},
   "source": [
    "List the info of the `colleges` dataframe.\n",
    "\n",
    "Now we'll directly access the dataframe dimensions and column names."
   ]
  },
  {
   "cell_type": "code",
   "execution_count": 3,
   "id": "ff59b6b3-aa1e-4fd9-9f52-59733415d2b0",
   "metadata": {
    "tags": []
   },
   "outputs": [
    {
     "name": "stdout",
     "output_type": "stream",
     "text": [
      "<class 'pandas.core.frame.DataFrame'>\n",
      "RangeIndex: 4435 entries, 0 to 4434\n",
      "Data columns (total 26 columns):\n",
      " #   Column                   Non-Null Count  Dtype  \n",
      "---  ------                   --------------  -----  \n",
      " 0   OPEID                    4435 non-null   int64  \n",
      " 1   name                     4435 non-null   object \n",
      " 2   city                     4435 non-null   object \n",
      " 3   state                    4435 non-null   object \n",
      " 4   region                   4435 non-null   object \n",
      " 5   median_debt              4435 non-null   float64\n",
      " 6   default_rate             4435 non-null   float64\n",
      " 7   highest_degree           4435 non-null   object \n",
      " 8   ownership                4435 non-null   object \n",
      " 9   locale                   4435 non-null   object \n",
      " 10  hbcu                     4435 non-null   object \n",
      " 11  admit_rate               1704 non-null   float64\n",
      " 12  SAT_avg                  1105 non-null   float64\n",
      " 13  online_only              4435 non-null   object \n",
      " 14  enrollment               4435 non-null   int64  \n",
      " 15  net_price                4435 non-null   float64\n",
      " 16  avg_cost                 4435 non-null   float64\n",
      " 17  net_tuition              4435 non-null   float64\n",
      " 18  ed_spending_per_student  4435 non-null   float64\n",
      " 19  avg_faculty_salary       3077 non-null   float64\n",
      " 20  pct_PELL                 4435 non-null   float64\n",
      " 21  pct_fed_loan             4435 non-null   float64\n",
      " 22  grad_rate                4435 non-null   float64\n",
      " 23  pct_firstgen             4088 non-null   float64\n",
      " 24  med_fam_income           4399 non-null   float64\n",
      " 25  med_alum_earnings        3912 non-null   float64\n",
      "dtypes: float64(15), int64(2), object(9)\n",
      "memory usage: 901.0+ KB\n"
     ]
    }
   ],
   "source": [
    "colleges.info()"
   ]
  },
  {
   "cell_type": "code",
   "execution_count": 5,
   "id": "3412ac25",
   "metadata": {},
   "outputs": [
    {
     "name": "stdout",
     "output_type": "stream",
     "text": [
      "The dimensions are 4435 rows and 26 columns.\n"
     ]
    }
   ],
   "source": [
    "## The .shape attribute returns a tuple (rows, columns) representing the dimensions of the dataframe.\n",
    "## colleges.shape[0] gives the first element of the tuple (rows).\n",
    "## colleges.shape[1] gives the second element of the tuple (columns).\n",
    "\n",
    "num_rows = colleges.shape[0] \n",
    "num_cols = colleges.shape[1] \n",
    "\n",
    "## Print the dimensions of the dataframe\n",
    "## f-string lets you embed variables {num_rows} and {num_cols} directly into the string.\n",
    "print(f\"The dimensions are {num_rows} rows and {num_cols} columns.\")"
   ]
  },
  {
   "cell_type": "markdown",
   "id": "1b1e3026",
   "metadata": {},
   "source": [
    "## Data Types\n",
    "\n",
    "**Question 3.** Interpret the output from the `.info()` and `.shape` methods in a brief paragraph. Highlight key features, such as the number of rows and columns, the data types of the variables, and any other important or interesting characteristics of the dataset.\n",
    "\n",
    "**Note:** Write your response in third person. Third person is a writing style where you describe actions, thoughts, or observations without using _\"I\"_,  _\"we\"_,  or _\"you\"_. Instead, it uses nouns or third-person pronouns like _\"the student\"_, _\"they\"_, _\"researchers\"_,  or just refers to the subject directly.\n",
    "\n",
    "- First person: _\"I observed that most of the variables are numerical.\"_\n",
    "\n",
    "- Third person: _\"The output showed that most of the variables are numerical.\"_ or _\"It was observed that most of variables are numerical..\"_"
   ]
  },
  {
   "cell_type": "markdown",
   "id": "a3410d5b-44eb-4168-a299-ac87fc1cf2f2",
   "metadata": {},
   "source": [
    "**_TYPE YOUR ANSWER HERE REPLACING THIS TEXT_**"
   ]
  },
  {
   "cell_type": "markdown",
   "id": "a2365967-af06-46a1-9c14-48ba155d7059",
   "metadata": {},
   "source": [
    "## Data Moves\n",
    "\n",
    "Data moves are the set of actions that analysts take to transform a dataset—such as grouping or filtering data, creating new summary variables, or restructuring the dataset to highlight or alter specific features of the data and enable different analytical techniques (Erickson et. al 2019).\n",
    "\n",
    "### Summarizing\n",
    "\n",
    "The summarizing data move involves condensing data by calculating key measures such as counts, averages, percentages, or other summary statistics. This reduction can reveal patterns and trends, making the information easier to interpret and compare.\n",
    "\n",
    "### Summarizing Numerical Data\n",
    "\n",
    "**Question 4.** Calculate the average graduation rate."
   ]
  },
  {
   "cell_type": "code",
   "execution_count": 7,
   "id": "76d4d4ba",
   "metadata": {},
   "outputs": [
    {
     "data": {
      "text/plain": [
       "54.945650507328075"
      ]
     },
     "execution_count": 7,
     "metadata": {},
     "output_type": "execute_result"
    }
   ],
   "source": [
    "colleges['grad_rate'].mean() # YOUR CODE GOES IN PLACE OF THE ELLIPSES ..."
   ]
  },
  {
   "cell_type": "markdown",
   "id": "2e442bee",
   "metadata": {},
   "source": [
    "The average is one type of summary statistic. It gives us an idea of the typical graduation rate but does not show the full pattern or distribution of all graduation rates. To understand this better, we need to calculate additional descriptive statistics.\n",
    "\n",
    "**Question 5.** Use the `.describe()` method to view the five-number summary along with the mean for the graduation rate."
   ]
  },
  {
   "cell_type": "code",
   "execution_count": 8,
   "id": "49428d30",
   "metadata": {},
   "outputs": [
    {
     "data": {
      "text/plain": [
       "count    4435.000000\n",
       "mean       54.945651\n",
       "std        22.051351\n",
       "min         0.000000\n",
       "25%        37.310000\n",
       "50%        56.400000\n",
       "75%        71.915000\n",
       "max       100.000000\n",
       "Name: grad_rate, dtype: float64"
      ]
     },
     "execution_count": 8,
     "metadata": {},
     "output_type": "execute_result"
    }
   ],
   "source": [
    "colleges['grad_rate'].describe()"
   ]
  },
  {
   "cell_type": "markdown",
   "id": "620ee52c",
   "metadata": {},
   "source": [
    "**Question 6.** Interpret the output from **Question 5**, focusing on what it reveals about the distribution of the graduation rates."
   ]
  },
  {
   "cell_type": "markdown",
   "id": "8f32c84c-f612-46df-983b-2a9bbf88a9cc",
   "metadata": {},
   "source": [
    "**_TYPE YOUR ANSWER HERE REPLACING THIS TEXT_**"
   ]
  },
  {
   "cell_type": "markdown",
   "id": "53ad8d70-09e9-4b8e-819c-037f0629e00b",
   "metadata": {},
   "source": [
    "### Summarizing Non-Numerical Data (Categorical & Logical)\n",
    "\n",
    "Categorical and logical variables can also be summarized using frequency counts.\n",
    "\n",
    "**Question 7.** Use the `value_counts()` method to view the frequency counts for the highest degree offered and whether the institution is private."
   ]
  },
  {
   "cell_type": "code",
   "execution_count": 10,
   "id": "ab953310",
   "metadata": {},
   "outputs": [
    {
     "data": {
      "text/plain": [
       "Graduate       1464\n",
       "Certificate    1374\n",
       "Associates     1096\n",
       "Bachelors       501\n",
       "Name: highest_degree, dtype: int64"
      ]
     },
     "execution_count": 10,
     "metadata": {},
     "output_type": "execute_result"
    }
   ],
   "source": [
    "colleges['highest_degree'].value_counts() # YOUR CODE GOES IN PLACE OF THE ELLIPSES ..."
   ]
  },
  {
   "cell_type": "code",
   "execution_count": 11,
   "id": "42bdb103",
   "metadata": {},
   "outputs": [
    {
     "data": {
      "text/plain": [
       "Prviate for-profit    1684\n",
       "Public                1539\n",
       "Private nonprofit     1212\n",
       "Name: ownership, dtype: int64"
      ]
     },
     "execution_count": 11,
     "metadata": {},
     "output_type": "execute_result"
    }
   ],
   "source": [
    "colleges['ownership'].value_counts() # YOUR CODE GOES IN PLACE OF THE ELLIPSES ..."
   ]
  },
  {
   "cell_type": "markdown",
   "id": "a1c2f452",
   "metadata": {},
   "source": [
    "**Question 8.** Comment on what you notice about the about from **Question 7**?"
   ]
  },
  {
   "cell_type": "markdown",
   "id": "926f2363-1838-4aa2-9307-f6c1978fbf88",
   "metadata": {},
   "source": [
    "**_TYPE YOUR ANSWER HERE REPLACING THIS TEXT_**"
   ]
  },
  {
   "cell_type": "markdown",
   "id": "4ef9e8a2",
   "metadata": {},
   "source": [
    "**Question 9.** Sometimes, it’s more helpful to examine proportions rather than raw frequencies, especially when comparing categories of different sizes. Use the `normalize=True` parameter in `value_counts()` to return proportions instead of counts."
   ]
  },
  {
   "cell_type": "code",
   "execution_count": 12,
   "id": "3ad6354e",
   "metadata": {},
   "outputs": [
    {
     "data": {
      "text/plain": [
       "Prviate for-profit    0.379707\n",
       "Public                0.347012\n",
       "Private nonprofit     0.273281\n",
       "Name: ownership, dtype: float64"
      ]
     },
     "execution_count": 12,
     "metadata": {},
     "output_type": "execute_result"
    }
   ],
   "source": [
    "colleges['ownership'].value_counts(normalize = True)"
   ]
  },
  {
   "cell_type": "markdown",
   "id": "fefef919",
   "metadata": {},
   "source": [
    "### Summarizing with Visualizations\n",
    "\n",
    "We can also summarize data with visualizations, such as bar charts for categories, histograms for numerical values, or boxplots to show the five-number summary. For now, we will focus on using a histogram, and we will explore other visualizations in more detail later in the course.\n",
    "\n",
    "Create a histogram for the graduation rate."
   ]
  },
  {
   "cell_type": "code",
   "execution_count": 16,
   "id": "c505d7af",
   "metadata": {},
   "outputs": [
    {
     "data": {
      "image/png": "[encoded data removed]",
      "text/plain": [
       "<Figure size 640x480 with 1 Axes>"
      ]
     },
     "metadata": {},
     "output_type": "display_data"
    }
   ],
   "source": [
    "colleges['grad_rate'].hist(grid = False, edgecolor = 'white');"
   ]
  },
  {
   "cell_type": "markdown",
   "id": "404226a8",
   "metadata": {},
   "source": [
    "**Question 10.** Interpret the outputs from **Questions 7**, **9**, and the histogram of the graduation rates. Focus on how graduation rates are distributed overall and how they might differ across ownership type and highest degree offered. Then, pose one question investigating how graduation rates might vary across the categorical variables (ownership type and highest degree offered). Clearly state what you are curious about and what you would expect to find based on your earlier analysis of each variable individually.\n",
    "\n",
    "For example, a possible response for SAT average could be _\"SAT averages appear to be higher for private institutions, with a wider spread of scores compared to public institutions. The distribution of SAT averages shows that while many schools cluster around mid-range scores, some private institutions have exceptionally high averages. A possible question is whether private institutions consistently have higher SAT averages than public ones. Based on the separate summaries of each variable, it is expected that private institutions report higher average SAT scores overall.\"_"
   ]
  },
  {
   "cell_type": "markdown",
   "id": "1c23fd61-6a61-49af-975c-3231f9005314",
   "metadata": {},
   "source": [
    "**_TYPE YOUR ANSWER HERE REPLACING THIS TEXT_**"
   ]
  }
 ],
 "metadata": {
  "kernelspec": {
   "display_name": "Python 3 (ipykernel)",
   "language": "python",
   "name": "python3"
  },
  "language_info": {
   "codemirror_mode": {
    "name": "ipython",
    "version": 3
   },
   "file_extension": ".py",
   "mimetype": "text/x-python",
   "name": "python",
   "nbconvert_exporter": "python",
   "pygments_lexer": "ipython3",
   "version": "3.10.11"
  },
  "rmarkdown_front_matter": "title: \"Assignment 01\"\nauthor: \"Your Name Goes Here\"\noutput: pdf_document\ndate: \"`r format(Sys.Date(), '%B %d, %Y')`\""
 },
 "nbformat": 4,
 "nbformat_minor": 5
}
