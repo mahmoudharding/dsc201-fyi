{
 "cells": [
  {
   "cell_type": "markdown",
   "id": "1d8c82d7",
   "metadata": {},
   "source": [
    "# Assignment A6 - Introduction to Data Moves Using Python \n",
    "\n",
    "## Due: See Date in Moodle\n",
    "\n",
    "## This Week's Assignment\n",
    "\n",
    "In this week's assignment, you'll:\n",
    "\n",
    "- Explore the core data types and data structures in base R.\n",
    "\n",
    "- Apply the summarize data move to categorical and numeric variables.\n",
    "\n",
    "## Guidelines\n",
    "\n",
    "- Follow good programming practices by using descriptive variable names, maintaining appropriate spacing for readability, and adding comments to clarify your code.\n",
    "\n",
    "- Ensure written responses use correct spelling, complete sentences, and proper grammar.\n",
    "\n",
    "**Name:** \n",
    "\n",
    "**Section:** \n",
    "\n",
    "**Date:** \n",
    "\n",
    "Let's get started!\n",
    "\n",
    "## Introductuon \n",
    "\n",
    "This week’s dataset comes from the second edition of [\"An Introduction to Statistical Learning\" by James et al](https://www.statlearning.com/resources-second-edition). A 1995 snapshot of over 700 U.S. colleges and universities as reported by the U.S. News & World Report. The dataset covers information such as admissions, costs, student profile, faculty credentials, and outcomes.\n",
    "\n",
    "\n",
    "For more detailed information refer to the [datasheet](https://docs.google.com/document/d/1ZzHoAoZ_vhhDLSlY4H4nVz6H-Zy_o_oNNju52Yns_0g/edit?usp=sharing).\n",
    "\n",
    "## Import Libraries\n",
    "\n",
    "**Question 1.** Import the Pandas library with the appropriate aliasing."
   ]
  },
  {
   "cell_type": "code",
   "execution_count": null,
   "id": "9193d11c-11af-4f2c-97ef-4ff17425b67c",
   "metadata": {
    "tags": []
   },
   "outputs": [],
   "source": [
    "... # YOUR CODE GOES IN PLACE OF THE ELLIPSES ..."
   ]
  },
  {
   "cell_type": "markdown",
   "id": "4f711bd9-766f-4546-9e95-d49a28669c22",
   "metadata": {},
   "source": [
    "## Load and Verify Data\n",
    "\n",
    "**Question 2.** Load the `colleges.csv` file into an Pandas dataframe named `colleges`. Once loaded, display the first 5 rows of the dataframe to preview its contents and ensure it was imported correctly."
   ]
  },
  {
   "cell_type": "code",
   "execution_count": null,
   "id": "bbe63168",
   "metadata": {},
   "outputs": [],
   "source": [
    "## Load the dataset\n",
    "colleges = ... # YOUR CODE GOES IN PLACE OF THE ELLIPSES ...\n",
    "\n",
    "## Display the first 5 rows\n",
    "... # YOUR CODE GOES IN PLACE OF THE ELLIPSES ..."
   ]
  },
  {
   "cell_type": "markdown",
   "id": "fc7fa895",
   "metadata": {},
   "source": [
    "Run the code cell below to list the info of the `colleges` dataframe."
   ]
  },
  {
   "cell_type": "code",
   "execution_count": null,
   "id": "ff59b6b3-aa1e-4fd9-9f52-59733415d2b0",
   "metadata": {
    "tags": []
   },
   "outputs": [],
   "source": [
    "colleges.info()"
   ]
  },
  {
   "cell_type": "markdown",
   "id": "a27a2dd5-c4fa-4866-91a3-8afa3c64dee1",
   "metadata": {},
   "source": [
    "Now we'll directly access the dataframe dimensions and column names."
   ]
  },
  {
   "cell_type": "code",
   "execution_count": null,
   "id": "3412ac25",
   "metadata": {},
   "outputs": [],
   "source": [
    "## The .shape attribute returns a tuple (rows, columns) representing the dimensions of the dataframe.\n",
    "## colleges.shape[0] gives the first element of the tuple (rows).\n",
    "## colleges.shape[1] gives the second element of the tuple (columns).\n",
    "\n",
    "num_rows = colleges.shape[0] \n",
    "num_cols = colleges.shape[1] \n",
    "\n",
    "## Print the dimensions of the dataframe\n",
    "## f-string lets you embed variables {num_rows} and {num_cols} directly into the string.\n",
    "print(f\"The dimensions are {num_rows} rows and {num_cols} columns.\")"
   ]
  },
  {
   "cell_type": "markdown",
   "id": "1b1e3026",
   "metadata": {},
   "source": [
    "## Data Types\n",
    "\n",
    "**Question 3.** Interpret the output from the `.info()` and `.shape` methods in a brief paragraph. Highlight key features, such as the number of rows and columns, the data types of the variables, and any other important or interesting characteristics of the dataset.\n",
    "\n",
    "**Note:** Write your response in third person. Third person is a writing style where you describe actions, thoughts, or observations without using _\"I\"_,  _\"we\"_,  or _\"you\"_. Instead, it uses nouns or third-person pronouns like _\"the student\"_, _\"they\"_, _\"researchers\"_,  or just refers to the subject directly.\n",
    "\n",
    "- First person: _\"I observed that most of the variables are numerical.\"_\n",
    "\n",
    "- Third person: _\"The output showed that most of the variables are numerical.\"_ or _\"It was observed that most of variables are numerical..\"_"
   ]
  },
  {
   "cell_type": "markdown",
   "id": "a3410d5b-44eb-4168-a299-ac87fc1cf2f2",
   "metadata": {},
   "source": [
    "**_TYPE YOUR ANSWER HERE REPLACING THIS TEXT_**"
   ]
  },
  {
   "cell_type": "markdown",
   "id": "a2365967-af06-46a1-9c14-48ba155d7059",
   "metadata": {},
   "source": [
    "## Data Moves\n",
    "\n",
    "Data moves are the set of actions that analysts take to transform a dataset—such as grouping or filtering data, creating new summary variables, or restructuring the dataset to highlight or alter specific features of the data and enable different analytical techniques (Erickson et. al 2019).\n",
    "\n",
    "### Summarizing\n",
    "\n",
    "The summarizing data move involves condensing data by calculating key measures such as counts, averages, percentages, or other summary statistics. This reduction can reveal patterns and trends, making the information easier to interpret and compare.\n",
    "\n",
    "### Summarizing Numerical Data\n",
    "\n",
    "**Question 4.** Calculate the average graduation rate."
   ]
  },
  {
   "cell_type": "code",
   "execution_count": null,
   "id": "76d4d4ba",
   "metadata": {},
   "outputs": [],
   "source": [
    "... # YOUR CODE GOES IN PLACE OF THE ELLIPSES ..."
   ]
  },
  {
   "cell_type": "markdown",
   "id": "2e442bee",
   "metadata": {},
   "source": [
    "The average is one type of summary statistic. It gives us an idea of the typical graduation rate but does not show the full pattern or distribution of all graduation rates. To understand this better, we need to calculate additional descriptive statistics.\n",
    "\n",
    "**Question 5.** Use the `.describe()` method to view the five-number summary along with the mean for the graduation rate."
   ]
  },
  {
   "cell_type": "code",
   "execution_count": null,
   "id": "49428d30",
   "metadata": {},
   "outputs": [],
   "source": [
    "... # YOUR CODE GOES IN PLACE OF THE ELLIPSES ..."
   ]
  },
  {
   "cell_type": "markdown",
   "id": "620ee52c",
   "metadata": {},
   "source": [
    "**Question 6.** Interpret the output from **Question 5**, focusing on what it reveals about the distribution of the graduation rates."
   ]
  },
  {
   "cell_type": "markdown",
   "id": "8f32c84c-f612-46df-983b-2a9bbf88a9cc",
   "metadata": {},
   "source": [
    "**_TYPE YOUR ANSWER HERE REPLACING THIS TEXT_**"
   ]
  },
  {
   "cell_type": "markdown",
   "id": "53ad8d70-09e9-4b8e-819c-037f0629e00b",
   "metadata": {},
   "source": [
    "### Summarizing Non-Numerical Data (Categorical & Logical)\n",
    "\n",
    "Categorical and logical variables can also be summarized using frequency counts.\n",
    "\n",
    "**Question 7.** Use the `value_counts()` method to view the frequency counts for the highest degree offered and whether the institution is private."
   ]
  },
  {
   "cell_type": "code",
   "execution_count": null,
   "id": "ab953310",
   "metadata": {},
   "outputs": [],
   "source": [
    "... # YOUR CODE GOES IN PLACE OF THE ELLIPSES ..."
   ]
  },
  {
   "cell_type": "code",
   "execution_count": null,
   "id": "42bdb103",
   "metadata": {},
   "outputs": [],
   "source": [
    "... # YOUR CODE GOES IN PLACE OF THE ELLIPSES ..."
   ]
  },
  {
   "cell_type": "markdown",
   "id": "a1c2f452",
   "metadata": {},
   "source": [
    "**Question 8.** Comment on what you notice about the about from **Question 7**?"
   ]
  },
  {
   "cell_type": "markdown",
   "id": "926f2363-1838-4aa2-9307-f6c1978fbf88",
   "metadata": {},
   "source": [
    "**_TYPE YOUR ANSWER HERE REPLACING THIS TEXT_**"
   ]
  },
  {
   "cell_type": "markdown",
   "id": "4ef9e8a2",
   "metadata": {},
   "source": [
    "**Question 9.** Sometimes, it’s more helpful to examine proportions rather than raw frequencies, especially when comparing categories of different sizes. Use the `normalize=True` parameter in `value_counts()` to return proportions instead of counts."
   ]
  },
  {
   "cell_type": "code",
   "execution_count": null,
   "id": "3ad6354e",
   "metadata": {},
   "outputs": [],
   "source": [
    "... # YOUR CODE GOES IN PLACE OF THE ELLIPSES ..."
   ]
  },
  {
   "cell_type": "markdown",
   "id": "fefef919",
   "metadata": {},
   "source": [
    "### Summarizing with Visualizations\n",
    "\n",
    "We can also summarize data with visualizations, such as bar charts for categories, histograms for numerical values, or boxplots to show the five-number summary. For now, we will focus on using a histogram, and we will explore other visualizations in more detail later in the course.\n",
    "\n",
    "Run the code cell below to create a histogram for the graduation rate."
   ]
  },
  {
   "cell_type": "code",
   "execution_count": null,
   "id": "c505d7af",
   "metadata": {},
   "outputs": [],
   "source": [
    "colleges['grad_rate'].hist(grid = False, edgecolor = 'white');"
   ]
  },
  {
   "cell_type": "markdown",
   "id": "404226a8",
   "metadata": {},
   "source": [
    "**Question 10.** Interpret the outputs from **Questions 7**, **9**, and the histogram of the graduation rates. Focus on how graduation rates are distributed overall and how they might differ across ownership type and highest degree offered. Then, pose one question investigating how graduation rates might vary across the categorical variables (ownership type and highest degree offered). Clearly state what you are curious about and what you would expect to find based on your earlier analysis of each variable individually.\n",
    "\n",
    "For example, a possible response for SAT average could be _\"SAT averages appear to be higher for private institutions, with a wider spread of scores compared to public institutions. The distribution of SAT averages shows that while many schools cluster around mid-range scores, some private institutions have exceptionally high averages. A possible question is whether private institutions consistently have higher SAT averages than public ones. Based on the separate summaries of each variable, it is expected that private institutions report higher average SAT scores overall.\"_"
   ]
  },
  {
   "cell_type": "markdown",
   "id": "1c23fd61-6a61-49af-975c-3231f9005314",
   "metadata": {},
   "source": [
    "**_TYPE YOUR ANSWER HERE REPLACING THIS TEXT_**"
   ]
  },
  {
   "cell_type": "markdown",
   "id": "dba40eb5-4aec-4d99-bb61-0011a3c7fa1d",
   "metadata": {},
   "source": [
    "## References\n",
    "\n",
    "Erickson, T., Wilkerson, M. H., Finzer, W., & Reichsman, F. (2019). _Data moves._ Technology Innovations in Statistics Education, 12(1). Retrieved from [https://escholarship.org/uc/item/0mg8m7g6]([https://escholarship.org/uc/item/0mg8m7g6)\n",
    "\n",
    "## Submission\n",
    "\n",
    "Make sure that all cells in your assignment have been executed to display all output, images, and graphs in the final document.\n",
    "\n",
    "**Note:** Save the assignment before proceeding to download the file.\n",
    "\n",
    "After downloading, locate the `.ipynb` file and upload **only** this file to Moodle. The assignment will be automatically submitted to Gradescope for grading."
   ]
  }
 ],
 "metadata": {
  "kernelspec": {
   "display_name": "Python 3 (ipykernel)",
   "language": "python",
   "name": "python3"
  },
  "language_info": {
   "codemirror_mode": {
    "name": "ipython",
    "version": 3
   },
   "file_extension": ".py",
   "mimetype": "text/x-python",
   "name": "python",
   "nbconvert_exporter": "python",
   "pygments_lexer": "ipython3",
   "version": "3.10.11"
  },
  "rmarkdown_front_matter": "title: \"Assignment 01\"\nauthor: \"Your Name Goes Here\"\noutput: pdf_document\ndate: \"`r format(Sys.Date(), '%B %d, %Y')`\""
 },
 "nbformat": 4,
 "nbformat_minor": 5
}
