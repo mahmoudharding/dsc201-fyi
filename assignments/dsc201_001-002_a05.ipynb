{
 "cells": [
  {
   "cell_type": "markdown",
   "id": "44e81398-8ba7-453f-a0a8-d2b8a94eafff",
   "metadata": {},
   "source": [
    "# Assignment 05\n",
    "\n",
    "## Due: See Date in Moodle\n",
    "\n",
    "## This Week's Assignment\n",
    "\n",
    "In this week's assignment you'll be introdcued to Jupyter Notebooks, you'll learn how to:\n",
    "\n",
    "- navigate the Jupyter Notebook interface\n",
    "\n",
    "- explore basic Python data structures\n",
    "\n",
    "## Guidelines\n",
    "\n",
    "- Follow good programming practices by using descriptive variable names, maintaining appropriate spacing for readability, and adding comments to clarify your code.\n",
    "\n",
    "- Ensure written responses use correct spelling, complete sentences, and proper grammar.\n",
    "\n",
    "**Name:**\n",
    "\n",
    "**Section:**\n",
    "\n",
    "**Date:**\n",
    "\n",
    "Let's get started!"
   ]
  },
  {
   "cell_type": "markdown",
   "id": "f9dbb390-6aa0-454e-beda-6cdf4034437e",
   "metadata": {},
   "source": [
    "## What is a Jupyter Notebook?\n",
    "\n",
    "A Jupyter Notebook is an interactive tool for writing code, running it, making visualizations, and adding text or images—all in one place. It’s popular in data science for combining code with explanation.\n",
    "\n",
    "### Modes\n",
    "\n",
    "* **Edit mode**: Type or edit content in a cell.\n",
    "* **Command mode**: Manage cells (add, delete, move) but can’t edit content.\n",
    "\n",
    "### Kernel\n",
    "\n",
    "The kernel runs your code:\n",
    "\n",
    "* **Idle (⚪)**: Ready to run code\n",
    "* **Busy (⚫)**: Running code\n",
    "\n",
    "### Cells\n",
    "\n",
    "Two types:\n",
    "\n",
    "* **Code cells**: Run Python code.\n",
    "* **Markdown cells**: Add text or formatting.\n",
    "\n",
    "### Running Cells\n",
    "\n",
    "1. `[ ]`: Mot run yet (Idle)\n",
    "2. `[*]`: Running (Busy)\n",
    "3. `[1]`, `[2]`, … : Run order\n",
    "\n",
    "Run a cell with **Shift + Enter** or ▶|.\n",
    "\n",
    "If code hangs:\n",
    "\n",
    "* **Kernel → Interrupt**\n",
    "* If needed, **Kernel → Restart** and re-run cells."
   ]
  },
  {
   "cell_type": "markdown",
   "id": "7d042af2-13e7-48b4-9b26-36648af0cb73",
   "metadata": {},
   "source": [
    "### Errors\n",
    "\n",
    "Errors happen when code has mistakes. Python shows error messages to help you find and fix them. Even expert programmers get errors. If you get an error just read the message, fix the problem, and keep going.\n",
    "\n",
    "Run the next cell to see an error in action."
   ]
  },
  {
   "cell_type": "code",
   "execution_count": null,
   "id": "59b535ff-e20a-4042-af67-e3c5be81b490",
   "metadata": {
    "tags": []
   },
   "outputs": [],
   "source": [
    "print(\"I <3\", 'Data Science'"
   ]
  },
  {
   "cell_type": "markdown",
   "id": "12b8624c-535d-4df0-ba23-5bce32836211",
   "metadata": {},
   "source": [
    "The error message you're seeing:\n",
    "\n",
    "```python\n",
    "  Cell In[2], line 1\n",
    "    print(\"I <3\", 'Data Science'\n",
    "                                ^\n",
    "SyntaxError: incomplete input\n",
    "```\n",
    "\n",
    "#### Explanation\n",
    "\n",
    "1. This part indicates where the error occurred:\n",
    "\n",
    "   - `Cell In[1]` refers to the first cell of your notebook.\n",
    "   \n",
    "   - `line 1` refers to the first line within that cell.\n",
    "\n",
    "1. The caret (`^`) is pointing to the end of the line, indicating the exact spot where Python expects additional input, in this case, a closing parenthesis `)`.\n",
    "\n",
    "1. A `SyntaxError` means there is something wrong with the structure of your code, and Python cannot understand or execute it as written. \n",
    "\n",
    "1. The message \"incomplete input\" is telling you that Python reached the end of the code (or the end of the line) but didn't find what it expected to complete the `print()` function call. Here, the missing piece is the closing parenthesis `)`.\n",
    "\n",
    "To fix the error, you simply need to add the closing parenthesis to complete the function call:\n",
    "\n",
    "```python\n",
    "print(\"I <3\", 'Data Science')\n",
    "```\n",
    "\n",
    "**Question 1.** Complete the input that resolves the syntax issue."
   ]
  },
  {
   "cell_type": "code",
   "execution_count": null,
   "id": "fbd1fc91-6f77-4dc1-b7a3-9c7edcc18162",
   "metadata": {
    "tags": []
   },
   "outputs": [],
   "source": [
    "print(\"I <3\", 'Data Science'"
   ]
  },
  {
   "cell_type": "markdown",
   "id": "9f9bc559-de03-4888-97b6-290231f89a20",
   "metadata": {},
   "source": [
    "### Markdown cells\n",
    "\n",
    "To edit an existing Markdown cell, simply double-click on it and make your changes. After editing, \"run\" the cell just like you would with a code cell to render the Markdown correctly.\n",
    "\n",
    "**Question 2.** Create an ordered list of steps for conducting a simple data analysis process. Your ordered list should include these four steps in this order: Import the dataset, Clean the data, Perform exploratory data analysis, Communicate findings.\n",
    "\n",
    "**Hint:** Click [here](https://www.markdownguide.org/basic-syntax/#ordered-lists) to learn what an ordered list is and how to create one in Markdown."
   ]
  },
  {
   "cell_type": "markdown",
   "id": "a57d15b7-18d4-4b6a-a917-b41a0c5ec5ee",
   "metadata": {},
   "source": [
    "_TYPE YOUR ANSWER HERE REPLACING THIS TEXT_"
   ]
  },
  {
   "cell_type": "markdown",
   "id": "233c8280-cb66-4569-89d9-830d58ad992c",
   "metadata": {},
   "source": [
    "**Note:** Make sure to review your response to the previous question to ensure it is properly formatted."
   ]
  },
  {
   "cell_type": "markdown",
   "id": "fc97153d-0f92-4d7b-9633-316e76e5e5d6",
   "metadata": {},
   "source": [
    "**Question 3.** You can format mathematical equations and expressions using Markdown with LaTeX. In the text cell below, write the LaTeX code to represent the equation for the normal (Gaussian) distribution curve.\n",
    "\n",
    "**Hints:** \n",
    "\n",
    "- Click [here](https://assets.ctfassets.net/nrgyaltdicpt/4e825etqMUW8vTF8drfRbw/d4f3d9adcb2980b80818f788e36316b2/A_quick_guide_to_LaTeX__Overleaf_version.pdf) to learn how to properly format mathematical expressions in LaTex $\\left(\\LaTeX \\right)$.\n",
    "\n",
    "- Click [here](https://en.wikipedia.org/wiki/Normal_distribution) to view the equation for the normal (Gaussian) distribution curve.\n",
    "\n",
    "- Try prompting ChatGPT or your preferred GenAI tool with the following _\"give me the exact LaTeX code for the display math version of the normal distribution function ready to paste into a markdown cell in a jupyter notebook_\""
   ]
  },
  {
   "cell_type": "markdown",
   "id": "d8cd647a-9d4e-4949-9f09-74293cb218aa",
   "metadata": {},
   "source": [
    "_TYPE YOUR ANSWER HERE REPLACING THIS TEXT_"
   ]
  },
  {
   "cell_type": "markdown",
   "id": "07382560-1de6-4e27-b2ae-5c9c15e0fb83",
   "metadata": {},
   "source": [
    "**Note:** Make sure to review your response to the previous question to ensure it is properly formatted."
   ]
  },
  {
   "cell_type": "markdown",
   "id": "42bc8b20-9a8c-4bd2-8d2a-74fdbcb5648b",
   "metadata": {},
   "source": [
    "### Arithmetic\n",
    "\n",
    "Python uses standard symbols for basic arithmetic.\n",
    "\n",
    "| Operation      | Symbol | Example  | Result |\n",
    "| -------------- | ------ | -------- | ------ |\n",
    "| Addition       | `+`    | `3 + 2`  | `5`    |\n",
    "| Subtraction    | `-`    | `5 - 1`  | `4`    |\n",
    "| Multiplication | `*`    | `4 * 2`  | `8`    |\n",
    "| Division       | `/`    | `8 / 2`  | `4.0`  |\n",
    "| Exponentiation | `**`   | `2 ** 3` | `8`    |"
   ]
  },
  {
   "cell_type": "markdown",
   "id": "b7b89758-f8b5-4851-af9a-24d6fb838bdd",
   "metadata": {},
   "source": [
    "**Question 4.** Use the code cell below to calculate the absolute value of $2^6-2^{11}-2^5-7$.\n",
    "\n",
    "**Hint:** the `abs()` function in Python will return the absolute value of an arithmetic expression."
   ]
  },
  {
   "cell_type": "code",
   "execution_count": null,
   "id": "34da5032-a7ae-46fa-9c8e-0a81d2ad7f34",
   "metadata": {
    "tags": []
   },
   "outputs": [],
   "source": [
    "abs(2**6-2**11-2**5-9)"
   ]
  },
  {
   "cell_type": "markdown",
   "id": "b6475208-f147-432e-b66e-c2be03b444b3",
   "metadata": {
    "tags": []
   },
   "source": [
    "### Variables & Assignment Statements\n",
    "\n",
    "In Python, a variable is a symbolic name for a value stored in memory, allowing you to label and manipulate data without referencing its exact location.\n",
    "\n",
    "An assignment statement uses the = operator to bind a variable to a value:\n",
    "\n",
    "```python\n",
    "variable_name = expression\n",
    "```\n",
    "\n",
    "The expression on the right is evaluated first, and the result is then assigned to the variable on the left."
   ]
  },
  {
   "cell_type": "markdown",
   "id": "5d8a8172-95e0-421c-97e0-5b6723b77afc",
   "metadata": {},
   "source": [
    "**Question 5.** Assign the value of π to a variable named `pi` (you can use 3.14159 for simplicity) and the radius of the sphere to a variable named `r` with a value of 10. Then, using the formula \n",
    "\n",
    "$$\\text{Surface Area} = 4\\pi r^2$$\n",
    "\n",
    "calculate the surface area of the sphere, store it in a variable named `sa`, and print the result to the screen."
   ]
  },
  {
   "cell_type": "code",
   "execution_count": null,
   "id": "97080737-2bd0-442c-b9e9-d99fda536dd3",
   "metadata": {},
   "outputs": [],
   "source": [
    "...\n",
    "\n",
    "print(sa)"
   ]
  },
  {
   "cell_type": "markdown",
   "id": "5715f189-2da0-4b6c-bffd-b8c958d97147",
   "metadata": {},
   "source": [
    "## Python Data Structures\n",
    "\n",
    "A data structure is a way to organize and store data so it can be accessed and used. In Python, common examples include lists, tuples, and dictionaries.\n",
    "\n",
    "### Lists\n",
    "\n",
    "A list in Python is an ordered collection of items that is mutable, meaning you can change it after it has been created by modifying existing items, adding new items, or removing items.\n",
    "\n",
    "Lists store values inside square brackets `[]`, separated by commas, and can hold any data type."
   ]
  },
  {
   "cell_type": "markdown",
   "id": "5fd81430-2b33-4fd2-86b9-f3097f06b257",
   "metadata": {},
   "source": [
    "**Question 6.** Create a list named `countdown` containing the values from 10 to 1, using a mix of integers, decimal numbers, and strings."
   ]
  },
  {
   "cell_type": "code",
   "execution_count": null,
   "id": "a9f33598-a5f9-4354-aba7-7ca7983f9746",
   "metadata": {
    "tags": []
   },
   "outputs": [],
   "source": [
    "countdown = ..."
   ]
  },
  {
   "cell_type": "markdown",
   "id": "0490b259-07d4-4b21-9a0b-0edab8585a65",
   "metadata": {},
   "source": [
    "Run the cell below to see how a `for` loop works in Python."
   ]
  },
  {
   "cell_type": "code",
   "execution_count": null,
   "id": "653c6236-0345-4fa8-a51c-f168115f40e9",
   "metadata": {
    "tags": []
   },
   "outputs": [],
   "source": [
    "## Loop through each item in the list countdown\n",
    "for number in countdown:\n",
    "    \n",
    "    ## Print the current item (number) to the screen\n",
    "    print(number)"
   ]
  },
  {
   "cell_type": "markdown",
   "id": "1809400b-2954-4908-b839-3b50d8580251",
   "metadata": {},
   "source": [
    "### Tuples\n",
    "\n",
    "A tuple in Python is an ordered collection of items that is immutable, meaning you cannot change it after it has been created.\n",
    "\n",
    "Tuples store values inside parentheses `()`, separated by commas, and can hold any data type."
   ]
  },
  {
   "cell_type": "markdown",
   "id": "0560d811-f1fe-4435-bbcd-2a0aeb4e88ca",
   "metadata": {},
   "source": [
    "**Question 7.** Create a tuple named `countup` containing the values from 1 to 10, using a mix of integers, decimal numbers, and strings."
   ]
  },
  {
   "cell_type": "code",
   "execution_count": null,
   "id": "b3fc2735-0f3e-4a94-b1a2-32edc0bfe85a",
   "metadata": {
    "tags": []
   },
   "outputs": [],
   "source": [
    "countup = ..."
   ]
  },
  {
   "cell_type": "markdown",
   "id": "c04e91d6-d077-4cd7-b39a-189e07d45f49",
   "metadata": {},
   "source": [
    "Run the cell below to see another way of executing a `for` loop works in Python."
   ]
  },
  {
   "cell_type": "code",
   "execution_count": null,
   "id": "12f359e1-98f3-4ef5-9b9c-853e49a9c014",
   "metadata": {
    "tags": []
   },
   "outputs": [],
   "source": [
    "## Print the header row with aligned column titles\n",
    "print(f\"{'Index':<10}{'Position':<10}{'Value'}\")\n",
    "\n",
    "## Print a row of dashes under each column title for formatting\n",
    "print(f\"{'-----':<10}{'--------':<10}{'-----'}\")\n",
    "\n",
    "\n",
    "## Loop through the list countup using its length\n",
    "for i in range(len(countup)):\n",
    "    \n",
    "    ## Print the index, the position (index + 1), and the actual value from the list\n",
    "    ## The <10 ensures each column is left-aligned within 10 character spaces\n",
    "    print(f\"{i:<10}{i+1:<10}{countup[i]}\")"
   ]
  },
  {
   "cell_type": "markdown",
   "id": "361cd1f3-c3b1-4516-b398-257f0a32df7d",
   "metadata": {},
   "source": [
    "### Dictionaries\n",
    "\n",
    "A dictionary in Python stores data as keyvalue pairs, allowing fast lookups using keys instead of numeric indexes.\n",
    "\n",
    "Dictionaries use curly braces `{}` with keys and values separated by colons, e.g., `{\"key\": \"value\"}`."
   ]
  },
  {
   "cell_type": "markdown",
   "id": "bad484a7-1cae-4553-82ef-aa9c584c3bb1",
   "metadata": {},
   "source": [
    "**Question 8.** Run the cell below to create the dictionaries for `house` and `condo`."
   ]
  },
  {
   "cell_type": "code",
   "execution_count": null,
   "id": "e280b9b6-4a55-468d-811d-19f346e47561",
   "metadata": {
    "tags": []
   },
   "outputs": [],
   "source": [
    "house = {\n",
    "    \"bedrooms\": 3,\n",
    "    \"bathrooms\": 2,\n",
    "    \"city\": \"Vancouver\",\n",
    "    \"price\": 2499999,\n",
    "    \"date_sold\": (1, 3, 2015),\n",
    "}\n",
    "\n",
    "condo = {\n",
    "    \"bedrooms\": 2,\n",
    "    \"bathrooms\": 1,\n",
    "    \"city\": \"Burnaby\",\n",
    "    \"price\": 699999,\n",
    "    \"date_sold\": (27, 8, 2011),\n",
    "}"
   ]
  },
  {
   "cell_type": "markdown",
   "id": "e614e333-9fcc-434b-bcdf-43dd98e7739a",
   "metadata": {},
   "source": [
    "Verify that both dictionaries were created correctly by running the two code cells below."
   ]
  },
  {
   "cell_type": "code",
   "execution_count": null,
   "id": "9f1ff2fb-c44c-4ea3-b4fa-0d805fdf0abe",
   "metadata": {
    "tags": []
   },
   "outputs": [],
   "source": [
    "house"
   ]
  },
  {
   "cell_type": "code",
   "execution_count": null,
   "id": "df1616f2-ce00-47f5-94da-3771d69346b2",
   "metadata": {
    "tags": []
   },
   "outputs": [],
   "source": [
    "condo"
   ]
  },
  {
   "cell_type": "markdown",
   "id": "ad026c02-8ad3-4b1b-8e37-4aad20f4a4af",
   "metadata": {},
   "source": [
    "**Question 9.** Access the price for the `house` and display it on the screen."
   ]
  },
  {
   "cell_type": "code",
   "execution_count": null,
   "id": "aa376445-0524-4ca4-b418-73dfcead05c7",
   "metadata": {
    "tags": []
   },
   "outputs": [],
   "source": [
    "..."
   ]
  },
  {
   "cell_type": "markdown",
   "id": "ccd4167e-d09d-4329-b4d4-629133317fbf",
   "metadata": {},
   "source": [
    "**Question 10.** Access the prices for condo and house directly from their dictionaries, then subtract the house price from the condo price to find the difference.\n",
    "\n",
    "**Note:** For full credit, retrieve the values directly from the dictionaries when performing the calculation and avoid hard-coding numbers (e.g., 2499999 - 699999)."
   ]
  },
  {
   "cell_type": "code",
   "execution_count": null,
   "id": "d317044b-d45e-406c-b16f-e745d37e3ae1",
   "metadata": {},
   "outputs": [],
   "source": [
    "..."
   ]
  },
  {
   "cell_type": "markdown",
   "id": "f7f2fb35-e43c-4d11-9320-804fe1cb76d9",
   "metadata": {},
   "source": [
    "## Submission\n",
    "\n",
    "Make sure that all cells in your assignment have been executed to display all output, images, and graphs in the final document.\n",
    "\n",
    "**Note:** Save the assignment before proceeding to download the file.\n",
    "\n",
    "After downloading, locate the `.ipynb` file and upload **only** this file to Moodle. The assignment will be automatically submitted to Gradescope for grading."
   ]
  }
 ],
 "metadata": {
  "kernelspec": {
   "display_name": "Python 3 (ipykernel)",
   "language": "python",
   "name": "python3"
  },
  "language_info": {
   "codemirror_mode": {
    "name": "ipython",
    "version": 3
   },
   "file_extension": ".py",
   "mimetype": "text/x-python",
   "name": "python",
   "nbconvert_exporter": "python",
   "pygments_lexer": "ipython3",
   "version": "3.10.11"
  }
 },
 "nbformat": 4,
 "nbformat_minor": 5
}
